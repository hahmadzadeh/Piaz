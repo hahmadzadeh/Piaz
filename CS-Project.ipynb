{
 "cells": [
  {
   "cell_type": "code",
   "execution_count": 1,
   "metadata": {},
   "outputs": [],
   "source": [
    "class Patient:\n",
    "    def __init__(self, has_covid19, arrival_time, boredom):\n",
    "        self.has_covid19 = has_covid19\n",
    "        self.arrival_time = arrival_time\n",
    "        self.boredom = boredom\n",
    "    \n",
    "    def is_bored(self):\n",
    "        return False"
   ]
  },
  {
   "cell_type": "code",
   "execution_count": null,
   "metadata": {},
   "outputs": [],
   "source": [
    "import queue\n",
    "\n",
    "class HQueue:\n",
    "    def __init__(self):\n",
    "        self.covid19_queue = queue.Queue()\n",
    "        self.others_queue = queue.Queue()\n",
    "    \n",
    "    def get(self):\n",
    "        while not self.covid19_queue.empty():\n",
    "            patient = self.covid19_queue.get()\n",
    "            if not patient.is_bored()\n",
    "                return patient\n",
    "        while not self.others_queue.empty():\n",
    "            patient = self.covid19_queue.get()\n",
    "            if not patient.is_bored()\n",
    "                return patient\n",
    "            \n",
    "            "
   ]
  }
 ],
 "metadata": {
  "kernelspec": {
   "display_name": "Python 3",
   "language": "python",
   "name": "python3"
  },
  "language_info": {
   "codemirror_mode": {
    "name": "ipython",
    "version": 3
   },
   "file_extension": ".py",
   "mimetype": "text/x-python",
   "name": "python",
   "nbconvert_exporter": "python",
   "pygments_lexer": "ipython3",
   "version": "3.6.9"
  }
 },
 "nbformat": 4,
 "nbformat_minor": 4
}
